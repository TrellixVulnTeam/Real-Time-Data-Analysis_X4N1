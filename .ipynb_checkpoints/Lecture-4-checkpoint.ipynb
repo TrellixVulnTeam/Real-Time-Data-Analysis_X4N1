{
 "cells": [
  {
   "cell_type": "code",
   "execution_count": 5,
   "metadata": {},
   "outputs": [
    {
     "name": "stdout",
     "output_type": "stream",
     "text": [
      "Requirement already satisfied: findspark in ./venv/lib/python3.7/site-packages (1.4.2)\r\n"
     ]
    }
   ],
   "source": [
    "! pip install pyspark\n",
    "! pip install findspark"
   ]
  },
  {
   "cell_type": "code",
   "execution_count": 2,
   "metadata": {},
   "outputs": [],
   "source": [
    "from pyspark.sql import SparkSession\n",
    "spark = SparkSession \\\n",
    "    .builder \\\n",
    "    .appName(\"Python Spark SQL basic example\") \\\n",
    "    .config(\"spark.some.config.option\", \"some-value\") \\\n",
    "    .getOrCreate()"
   ]
  },
  {
   "cell_type": "code",
   "execution_count": 126,
   "metadata": {},
   "outputs": [],
   "source": [
    "import requests, json\n",
    "\n",
    "url = 'https://think.cs.vt.edu/corgis/datasets/json/airlines/airlines.json'\n",
    "resp = requests.get(url=url)\n",
    "json_string = json.dumps(resp.json())\n",
    "json_data= json.loads(json_string)\n",
    "json_object= {airport['Airport']['Code']: airport['Airport'] for airport in json_data}\n",
    "\n",
    "with open('airlines.json', 'w') as json_file:\n",
    "    json.dump(json_data, json_file)"
   ]
  },
  {
   "cell_type": "code",
   "execution_count": 127,
   "metadata": {},
   "outputs": [],
   "source": [
    "df = spark.read.json(\"airlines.json\")\n",
    "# Displays the content of the DataFrame to stdout\n",
    "# df.show()"
   ]
  },
  {
   "cell_type": "code",
   "execution_count": 128,
   "metadata": {},
   "outputs": [
    {
     "name": "stdout",
     "output_type": "stream",
     "text": [
      "root\n",
      " |-- Airport: struct (nullable = true)\n",
      " |    |-- Code: string (nullable = true)\n",
      " |    |-- Name: string (nullable = true)\n",
      " |-- Statistics: struct (nullable = true)\n",
      " |    |-- # of Delays: struct (nullable = true)\n",
      " |    |    |-- Carrier: long (nullable = true)\n",
      " |    |    |-- Late Aircraft: long (nullable = true)\n",
      " |    |    |-- National Aviation System: long (nullable = true)\n",
      " |    |    |-- Security: long (nullable = true)\n",
      " |    |    |-- Weather: long (nullable = true)\n",
      " |    |-- Carriers: struct (nullable = true)\n",
      " |    |    |-- Names: string (nullable = true)\n",
      " |    |    |-- Total: long (nullable = true)\n",
      " |    |-- Flights: struct (nullable = true)\n",
      " |    |    |-- Cancelled: long (nullable = true)\n",
      " |    |    |-- Delayed: long (nullable = true)\n",
      " |    |    |-- Diverted: long (nullable = true)\n",
      " |    |    |-- On Time: long (nullable = true)\n",
      " |    |    |-- Total: long (nullable = true)\n",
      " |    |-- Minutes Delayed: struct (nullable = true)\n",
      " |    |    |-- Carrier: long (nullable = true)\n",
      " |    |    |-- Late Aircraft: long (nullable = true)\n",
      " |    |    |-- National Aviation System: long (nullable = true)\n",
      " |    |    |-- Security: long (nullable = true)\n",
      " |    |    |-- Total: long (nullable = true)\n",
      " |    |    |-- Weather: long (nullable = true)\n",
      " |-- Time: struct (nullable = true)\n",
      " |    |-- Label: string (nullable = true)\n",
      " |    |-- Month: long (nullable = true)\n",
      " |    |-- Month Name: string (nullable = true)\n",
      " |    |-- Year: long (nullable = true)\n",
      "\n"
     ]
    }
   ],
   "source": [
    "# Understanding the schema of the JSON through the dataframe\n",
    "df.printSchema()"
   ]
  },
  {
   "cell_type": "code",
   "execution_count": 134,
   "metadata": {},
   "outputs": [
    {
     "name": "stdout",
     "output_type": "stream",
     "text": [
      "root\n",
      " |-- Airport: struct (nullable = true)\n",
      " |    |-- Code: string (nullable = true)\n",
      " |    |-- Name: string (nullable = true)\n",
      "\n"
     ]
    }
   ],
   "source": [
    "airports= df.select(\"Airport\")\n",
    "airports.printSchema()"
   ]
  },
  {
   "cell_type": "code",
   "execution_count": 133,
   "metadata": {},
   "outputs": [
    {
     "name": "stdout",
     "output_type": "stream",
     "text": [
      "root\n",
      " |-- Statistics: struct (nullable = true)\n",
      " |    |-- # of Delays: struct (nullable = true)\n",
      " |    |    |-- Carrier: long (nullable = true)\n",
      " |    |    |-- Late Aircraft: long (nullable = true)\n",
      " |    |    |-- National Aviation System: long (nullable = true)\n",
      " |    |    |-- Security: long (nullable = true)\n",
      " |    |    |-- Weather: long (nullable = true)\n",
      " |    |-- Carriers: struct (nullable = true)\n",
      " |    |    |-- Names: string (nullable = true)\n",
      " |    |    |-- Total: long (nullable = true)\n",
      " |    |-- Flights: struct (nullable = true)\n",
      " |    |    |-- Cancelled: long (nullable = true)\n",
      " |    |    |-- Delayed: long (nullable = true)\n",
      " |    |    |-- Diverted: long (nullable = true)\n",
      " |    |    |-- On Time: long (nullable = true)\n",
      " |    |    |-- Total: long (nullable = true)\n",
      " |    |-- Minutes Delayed: struct (nullable = true)\n",
      " |    |    |-- Carrier: long (nullable = true)\n",
      " |    |    |-- Late Aircraft: long (nullable = true)\n",
      " |    |    |-- National Aviation System: long (nullable = true)\n",
      " |    |    |-- Security: long (nullable = true)\n",
      " |    |    |-- Total: long (nullable = true)\n",
      " |    |    |-- Weather: long (nullable = true)\n",
      "\n"
     ]
    }
   ],
   "source": [
    "statistics = df.select(\"Statistics\")\n",
    "statistics.printSchema()"
   ]
  },
  {
   "cell_type": "code",
   "execution_count": 144,
   "metadata": {},
   "outputs": [
    {
     "name": "stdout",
     "output_type": "stream",
     "text": [
      "+--------------------+\n",
      "|          Statistics|\n",
      "+--------------------+\n",
      "|{{1009, 1275, 321...|\n",
      "|{{374, 495, 685, ...|\n",
      "|{{296, 477, 389, ...|\n",
      "|{{300, 472, 735, ...|\n",
      "|{{283, 268, 487, ...|\n",
      "+--------------------+\n",
      "only showing top 5 rows\n",
      "\n"
     ]
    }
   ],
   "source": [
    "statistics.select(\"Statistics\").show(5) #select(explode(\"Statistics\"))"
   ]
  },
  {
   "cell_type": "code",
   "execution_count": null,
   "metadata": {},
   "outputs": [],
   "source": []
  }
 ],
 "metadata": {
  "kernelspec": {
   "display_name": "Python 3",
   "language": "python",
   "name": "python3"
  },
  "language_info": {
   "codemirror_mode": {
    "name": "ipython",
    "version": 3
   },
   "file_extension": ".py",
   "mimetype": "text/x-python",
   "name": "python",
   "nbconvert_exporter": "python",
   "pygments_lexer": "ipython3",
   "version": "3.7.3"
  }
 },
 "nbformat": 4,
 "nbformat_minor": 2
}
