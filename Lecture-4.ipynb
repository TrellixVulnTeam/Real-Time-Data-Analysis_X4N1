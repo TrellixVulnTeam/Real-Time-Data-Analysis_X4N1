{
 "cells": [
  {
   "cell_type": "code",
   "execution_count": 5,
   "metadata": {},
   "outputs": [
    {
     "name": "stdout",
     "output_type": "stream",
     "text": [
      "Requirement already satisfied: findspark in ./venv/lib/python3.7/site-packages (1.4.2)\r\n"
     ]
    }
   ],
   "source": [
    "! pip install pyspark\n",
    "! pip install findspark"
   ]
  },
  {
   "cell_type": "code",
   "execution_count": 8,
   "metadata": {},
   "outputs": [],
   "source": [
    "from pyspark.sql import SparkSession\n",
    "spark = SparkSession \\\n",
    "    .builder \\\n",
    "    .appName(\"Semi_Sructured_Data_Analysis\") \\\n",
    "    .config(\"spark.some.config.option\", \"some-value\") \\\n",
    "    .getOrCreate()"
   ]
  },
  {
   "cell_type": "markdown",
   "metadata": {},
   "source": [
    "### Reading Comma Separated Values (CSV)\n",
    "\n",
    "Discuss also about the parameters of the read.csv() option such as inferschema, enforceschema etc."
   ]
  },
  {
   "cell_type": "code",
   "execution_count": 33,
   "metadata": {},
   "outputs": [
    {
     "name": "stdout",
     "output_type": "stream",
     "text": [
      "--2021-04-21 00:57:03--  https://covid.ourworldindata.org/data/owid-covid-data.csv\n",
      "Resolving covid.ourworldindata.org (covid.ourworldindata.org)... 104.21.233.138, 104.21.233.137\n",
      "Connecting to covid.ourworldindata.org (covid.ourworldindata.org)|104.21.233.138|:443... connected.\n",
      "HTTP request sent, awaiting response... 200 OK\n",
      "Length: unspecified [text/csv]\n",
      "Saving to: ‘owid-covid-data.csv’\n",
      "\n",
      "owid-covid-data.csv     [                 <=>]  20,43M  6,32MB/s    in 3,4s    \n",
      "\n",
      "2021-04-21 00:57:07 (5,95 MB/s) - ‘owid-covid-data.csv’ saved [21419439]\n",
      "\n"
     ]
    }
   ],
   "source": [
    "! wget 'https://covid.ourworldindata.org/data/owid-covid-data.csv'"
   ]
  },
  {
   "cell_type": "code",
   "execution_count": 40,
   "metadata": {},
   "outputs": [
    {
     "data": {
      "text/plain": [
       "82837"
      ]
     },
     "execution_count": 40,
     "metadata": {},
     "output_type": "execute_result"
    }
   ],
   "source": [
    "df = spark.read.csv('data/owid-covid-data.csv', sep= ',', header= True)\n",
    "df.count()"
   ]
  },
  {
   "cell_type": "code",
   "execution_count": 51,
   "metadata": {},
   "outputs": [
    {
     "name": "stdout",
     "output_type": "stream",
     "text": [
      "+---------+-----------+----------+-----------+------------+-----------------------+----------+\n",
      "|continent|   location|      date|total_cases|total_deaths|total_cases_per_million|population|\n",
      "+---------+-----------+----------+-----------+------------+-----------------------+----------+\n",
      "|     Asia|Afghanistan|2020-02-24|        1.0|        null|                  0.026|38928341.0|\n",
      "|     Asia|Afghanistan|2020-02-25|        1.0|        null|                  0.026|38928341.0|\n",
      "|     Asia|Afghanistan|2020-02-26|        1.0|        null|                  0.026|38928341.0|\n",
      "|     Asia|Afghanistan|2020-02-27|        1.0|        null|                  0.026|38928341.0|\n",
      "|     Asia|Afghanistan|2020-02-28|        1.0|        null|                  0.026|38928341.0|\n",
      "+---------+-----------+----------+-----------+------------+-----------------------+----------+\n",
      "only showing top 5 rows\n",
      "\n"
     ]
    }
   ],
   "source": [
    "df.select(\"continent\", \"location\", \"date\",\n",
    "          \"total_cases\", \"total_deaths\",\n",
    "          \"total_cases_per_million\",\n",
    "          \"population\"\n",
    "         ).show(5)"
   ]
  },
  {
   "cell_type": "markdown",
   "metadata": {},
   "source": [
    "### Reading Tab Separated Values (TSV)"
   ]
  },
  {
   "cell_type": "code",
   "execution_count": 57,
   "metadata": {},
   "outputs": [
    {
     "name": "stdout",
     "output_type": "stream",
     "text": [
      "gzip: data/2021-04-19_clean-dataset.tsv.gz already has .gz suffix -- unchanged\r\n"
     ]
    }
   ],
   "source": [
    "! wget 'https://github.com/thepanacealab/covid19_twitter/blob/master/dailies/2021-04-19/2021-04-19_clean-dataset.tsv.gz'\n",
    "! gzip 'data/2021-04-19_clean-dataset.tsv.gz'"
   ]
  },
  {
   "cell_type": "code",
   "execution_count": null,
   "metadata": {},
   "outputs": [],
   "source": []
  },
  {
   "cell_type": "code",
   "execution_count": 1,
   "metadata": {},
   "outputs": [
    {
     "name": "stdout",
     "output_type": "stream",
     "text": [
      "--2021-04-20 23:35:18--  https://datasets.imdbws.com/title.basics.tsv.gz\n",
      "Resolving datasets.imdbws.com (datasets.imdbws.com)... 13.224.21.69, 13.224.21.11, 13.224.21.89, ...\n",
      "Connecting to datasets.imdbws.com (datasets.imdbws.com)|13.224.21.69|:443... connected.\n",
      "HTTP request sent, awaiting response... 200 OK\n",
      "Length: 139183784 (133M) [binary/octet-stream]\n",
      "Saving to: ‘title.basics.tsv.gz’\n",
      "\n",
      "title.basics.tsv.gz 100%[===================>] 132,74M  7,70MB/s    in 18s     \n",
      "\n",
      "2021-04-20 23:35:36 (7,51 MB/s) - ‘title.basics.tsv.gz’ saved [139183784/139183784]\n",
      "\n",
      "--2021-04-20 23:35:36--  http://./\n",
      "Resolving . (.)... failed: nodename nor servname provided, or not known.\n",
      "wget: unable to resolve host address ‘.’\n",
      "FINISHED --2021-04-20 23:35:36--\n",
      "Total wall clock time: 18s\n",
      "Downloaded: 1 files, 133M in 18s (7,51 MB/s)\n"
     ]
    }
   ],
   "source": [
    "! wget 'https://datasets.imdbws.com/title.ratings.tsv.gz' ."
   ]
  },
  {
   "cell_type": "code",
   "execution_count": 2,
   "metadata": {},
   "outputs": [
    {
     "name": "stdout",
     "output_type": "stream",
     "text": [
      "--2021-04-20 23:36:10--  https://datasets.imdbws.com/title.ratings.tsv.gz\n",
      "Resolving datasets.imdbws.com (datasets.imdbws.com)... 13.224.21.69, 13.224.21.11, 13.224.21.89, ...\n",
      "Connecting to datasets.imdbws.com (datasets.imdbws.com)|13.224.21.69|:443... connected.\n",
      "HTTP request sent, awaiting response... 200 OK\n",
      "Length: 5656174 (5,4M) [binary/octet-stream]\n",
      "Saving to: ‘title.ratings.tsv.gz’\n",
      "\n",
      "title.ratings.tsv.g 100%[===================>]   5,39M  5,62MB/s    in 1,0s    \n",
      "\n",
      "2021-04-20 23:36:11 (5,62 MB/s) - ‘title.ratings.tsv.gz’ saved [5656174/5656174]\n",
      "\n"
     ]
    }
   ],
   "source": [
    "! wget 'https://datasets.imdbws.com/title.ratings.tsv.gz'"
   ]
  },
  {
   "cell_type": "code",
   "execution_count": 7,
   "metadata": {},
   "outputs": [],
   "source": [
    "! gunzip 'data/title.basics.tsv.gz'\n",
    "! gunzip 'data/title.ratings.tsv.gz'"
   ]
  },
  {
   "cell_type": "code",
   "execution_count": null,
   "metadata": {},
   "outputs": [],
   "source": []
  },
  {
   "cell_type": "code",
   "execution_count": 62,
   "metadata": {},
   "outputs": [
    {
     "data": {
      "text/plain": [
       "1645911"
      ]
     },
     "execution_count": 62,
     "metadata": {},
     "output_type": "execute_result"
    }
   ],
   "source": [
    "df = spark.read.csv(\"data/2021-04-19-dataset.tsv\", header= True, sep= '\\t')\n",
    "df.count()"
   ]
  },
  {
   "cell_type": "code",
   "execution_count": 60,
   "metadata": {},
   "outputs": [
    {
     "name": "stdout",
     "output_type": "stream",
     "text": [
      "root\n",
      " |-- tweet_id: string (nullable = true)\n",
      " |-- date: string (nullable = true)\n",
      " |-- time: string (nullable = true)\n",
      " |-- lang: string (nullable = true)\n",
      " |-- country_code: string (nullable = true)\n",
      "\n"
     ]
    }
   ],
   "source": [
    "df.printSchema()"
   ]
  },
  {
   "cell_type": "code",
   "execution_count": 63,
   "metadata": {},
   "outputs": [
    {
     "name": "stdout",
     "output_type": "stream",
     "text": [
      "+-------------------+----------+--------+----+------------+\n",
      "|           tweet_id|      date|    time|lang|country_code|\n",
      "+-------------------+----------+--------+----+------------+\n",
      "|1383994244709314567|2021-04-19|04:01:55|  en|        NULL|\n",
      "|1383994244763844612|2021-04-19|04:01:55|  en|        NULL|\n",
      "|1383994244986130433|2021-04-19|04:01:56|  es|        NULL|\n",
      "|1383994245065756673|2021-04-19|04:01:56|  in|        NULL|\n",
      "+-------------------+----------+--------+----+------------+\n",
      "only showing top 4 rows\n",
      "\n"
     ]
    }
   ],
   "source": [
    "df.show(4)"
   ]
  },
  {
   "cell_type": "markdown",
   "metadata": {},
   "source": [
    "### Reading JSON\n",
    "\n"
   ]
  },
  {
   "cell_type": "code",
   "execution_count": 52,
   "metadata": {},
   "outputs": [
    {
     "name": "stdout",
     "output_type": "stream",
     "text": [
      "--2021-04-21 01:54:38--  https://data.cdc.gov/resource/3apk-4u4f.json\n",
      "Resolving data.cdc.gov (data.cdc.gov)... 52.206.140.199, 52.206.68.26, 52.206.140.205\n",
      "Connecting to data.cdc.gov (data.cdc.gov)|52.206.140.199|:443... connected.\n",
      "HTTP request sent, awaiting response... 200 OK\n",
      "Length: unspecified [application/json]\n",
      "Saving to: ‘3apk-4u4f.json’\n",
      "\n",
      "3apk-4u4f.json          [ <=>                ]  33,63K  --.-KB/s    in 0,002s  \n",
      "\n",
      "2021-04-21 01:54:40 (15,6 MB/s) - ‘3apk-4u4f.json’ saved [34441]\n",
      "\n"
     ]
    }
   ],
   "source": [
    "! wget \"https://data.cdc.gov/resource/3apk-4u4f.json\""
   ]
  },
  {
   "cell_type": "markdown",
   "metadata": {},
   "source": [
    "### Binary Files"
   ]
  },
  {
   "cell_type": "code",
   "execution_count": null,
   "metadata": {},
   "outputs": [],
   "source": [
    "spark.read.format(\"binaryFile\").option(\"pathGlobFilter\", \"*.png\").load(\"/data\")\n"
   ]
  },
  {
   "cell_type": "markdown",
   "metadata": {},
   "source": [
    "\n",
    "##### Number of Delays:\n",
    "1. **Carrier**: The number of delays and cancellations due to circumstances within the airline's control (e.g. maintenance or crew problems, aircraft cleaning, baggage loading, fueling, etc.) in this month.\n",
    "2. **Late Aircraft**: The number of delays and cancellations caused by a previous flight with the same aircraft arriving late, causing the present flight to depart late in this month.\t\n",
    "3. **National Aviation System**: The number of delays and cancellations attributable to the national aviation system that refer to a broad set of conditions, such as non-extreme weather conditions, airport operations, heavy traffic volume, and air traffic control in this month.\n",
    "4. **Security**: Number of delays or cancellations caused by evacuation of a terminal or concourse, re-boarding of aircraft because of security breach, inoperative screening equipment and/or long lines in excess of 29 minutes at screening areas in this month.\n",
    "5. **Weather**: Number of delays or cancellations caused by significant meteorological conditions (actual or forecasted) that, in the judgment of the carrier, delays or prevents the operation of a flight such as tornado, blizzard or hurricane in this month.\t"
   ]
  },
  {
   "cell_type": "code",
   "execution_count": 148,
   "metadata": {},
   "outputs": [],
   "source": [
    "import requests, json\n",
    "\n",
    "url = 'https://think.cs.vt.edu/corgis/datasets/json/airlines/airlines.json'\n",
    "resp = requests.get(url=url)\n",
    "json_string = json.dumps(resp.json())\n",
    "json_data= json.loads(json_string)\n",
    "\n",
    "with open('airlines.json', 'w') as json_file:\n",
    "    json.dump(json_data, json_file)"
   ]
  },
  {
   "cell_type": "code",
   "execution_count": 231,
   "metadata": {},
   "outputs": [
    {
     "name": "stdout",
     "output_type": "stream",
     "text": [
      "+--------------------+--------------------+--------------------+\n",
      "|             Airport|          Statistics|                Time|\n",
      "+--------------------+--------------------+--------------------+\n",
      "|{ATL, Atlanta, GA...|{{1009, 1275, 321...|{2003/06, 6, June...|\n",
      "|{BOS, Boston, MA:...|{{374, 495, 685, ...|{2003/06, 6, June...|\n",
      "|{BWI, Baltimore, ...|{{296, 477, 389, ...|{2003/06, 6, June...|\n",
      "|{CLT, Charlotte, ...|{{300, 472, 735, ...|{2003/06, 6, June...|\n",
      "|{DCA, Washington,...|{{283, 268, 487, ...|{2003/06, 6, June...|\n",
      "|{DEN, Denver, CO:...|{{516, 323, 664, ...|{2003/06, 6, June...|\n",
      "+--------------------+--------------------+--------------------+\n",
      "only showing top 6 rows\n",
      "\n"
     ]
    }
   ],
   "source": [
    "df = spark.read.json(\"airlines.json\")\n",
    "df.show(6)"
   ]
  },
  {
   "cell_type": "code",
   "execution_count": 233,
   "metadata": {},
   "outputs": [],
   "source": [
    "df= spark.read.option(\"multiline\",\"true\").json(\"airlines.json\")\n",
    "#df.show(6)"
   ]
  },
  {
   "cell_type": "code",
   "execution_count": 152,
   "metadata": {},
   "outputs": [
    {
     "name": "stdout",
     "output_type": "stream",
     "text": [
      "root\n",
      " |-- Airport: struct (nullable = true)\n",
      " |    |-- Code: string (nullable = true)\n",
      " |    |-- Name: string (nullable = true)\n",
      " |-- Statistics: struct (nullable = true)\n",
      " |    |-- # of Delays: struct (nullable = true)\n",
      " |    |    |-- Carrier: long (nullable = true)\n",
      " |    |    |-- Late Aircraft: long (nullable = true)\n",
      " |    |    |-- National Aviation System: long (nullable = true)\n",
      " |    |    |-- Security: long (nullable = true)\n",
      " |    |    |-- Weather: long (nullable = true)\n",
      " |    |-- Carriers: struct (nullable = true)\n",
      " |    |    |-- Names: string (nullable = true)\n",
      " |    |    |-- Total: long (nullable = true)\n",
      " |    |-- Flights: struct (nullable = true)\n",
      " |    |    |-- Cancelled: long (nullable = true)\n",
      " |    |    |-- Delayed: long (nullable = true)\n",
      " |    |    |-- Diverted: long (nullable = true)\n",
      " |    |    |-- On Time: long (nullable = true)\n",
      " |    |    |-- Total: long (nullable = true)\n",
      " |    |-- Minutes Delayed: struct (nullable = true)\n",
      " |    |    |-- Carrier: long (nullable = true)\n",
      " |    |    |-- Late Aircraft: long (nullable = true)\n",
      " |    |    |-- National Aviation System: long (nullable = true)\n",
      " |    |    |-- Security: long (nullable = true)\n",
      " |    |    |-- Total: long (nullable = true)\n",
      " |    |    |-- Weather: long (nullable = true)\n",
      " |-- Time: struct (nullable = true)\n",
      " |    |-- Label: string (nullable = true)\n",
      " |    |-- Month: long (nullable = true)\n",
      " |    |-- Month Name: string (nullable = true)\n",
      " |    |-- Year: long (nullable = true)\n",
      "\n"
     ]
    }
   ],
   "source": [
    "# Understanding the schema of the JSON through the dataframe\n",
    "df.printSchema()"
   ]
  },
  {
   "cell_type": "code",
   "execution_count": 235,
   "metadata": {},
   "outputs": [
    {
     "name": "stdout",
     "output_type": "stream",
     "text": [
      "root\n",
      " |-- Code: string (nullable = true)\n",
      " |-- Name: string (nullable = true)\n",
      " |-- Carrier: long (nullable = true)\n",
      " |-- Late Aircraft: long (nullable = true)\n",
      " |-- Security: long (nullable = true)\n",
      " |-- Weather: long (nullable = true)\n",
      "\n"
     ]
    }
   ],
   "source": [
    "\n",
    "# Subsetting the dataframe to analyse the statistics of # (number) of delays\n",
    "airport_delay_statistics = df.select(\"Airport.Code\", \"Airport.Name\", \n",
    "                                     \"Statistics.# of Delays.Carrier\", \n",
    "                                     \"Statistics.# of Delays.Late Aircraft\",\n",
    "                                     \"Statistics.# of Delays.Security\", \n",
    "                                     \"Statistics.# of Delays.Weather\")\n",
    "airport_delay_statistics.printSchema()\n"
   ]
  },
  {
   "cell_type": "code",
   "execution_count": 325,
   "metadata": {},
   "outputs": [
    {
     "data": {
      "text/plain": [
       "['file:///Users/ankitbit/Documents/Lectures/Real-Time-Data-Analysis/airlines.json']"
      ]
     },
     "execution_count": 325,
     "metadata": {},
     "output_type": "execute_result"
    }
   ],
   "source": [
    "# Check which input file has created this dataframe\n",
    "airport_delay_statistics.inputFiles()"
   ]
  },
  {
   "cell_type": "code",
   "execution_count": 241,
   "metadata": {},
   "outputs": [
    {
     "name": "stdout",
     "output_type": "stream",
     "text": [
      "+-------+------------------+----------------+-----------------+-----------------+\n",
      "|summary|           Carrier|   Late Aircraft|         Security|          Weather|\n",
      "+-------+------------------+----------------+-----------------+-----------------+\n",
      "|  count|              4408|            4408|             4408|             4408|\n",
      "|   mean| 574.6324863883848|789.078947368421|  5.5755444646098|78.21687840290382|\n",
      "| stddev|329.61647461501815| 561.79842030889|6.007046080059749|75.18172623192343|\n",
      "|    min|               112|              86|               -1|                1|\n",
      "|    max|              3087|            4483|               94|              812|\n",
      "+-------+------------------+----------------+-----------------+-----------------+\n",
      "\n"
     ]
    }
   ],
   "source": [
    "\n",
    "# Creating summary statistics of the dataframe attributes\n",
    "airport_delay_statistics.select(\"Carrier\", \"Late Aircraft\",\n",
    "                                \"Security\",\"Weather\").describe().show()\n"
   ]
  },
  {
   "cell_type": "code",
   "execution_count": 248,
   "metadata": {},
   "outputs": [
    {
     "name": "stdout",
     "output_type": "stream",
     "text": [
      "+----+--------------------+-------+\n",
      "|Code|                Name|Weather|\n",
      "+----+--------------------+-------+\n",
      "| MDW|Chicago, IL: Chic...|      1|\n",
      "| PDX|Portland, OR: Por...|      2|\n",
      "| BWI|Baltimore, MD: Ba...|      2|\n",
      "| FLL|Fort Lauderdale, ...|      2|\n",
      "| PDX|Portland, OR: Por...|      3|\n",
      "| IAD|Washington, DC: W...|      3|\n",
      "| MCO|Orlando, FL: Orla...|      4|\n",
      "| PDX|Portland, OR: Por...|      4|\n",
      "| FLL|Fort Lauderdale, ...|      4|\n",
      "| MDW|Chicago, IL: Chic...|      4|\n",
      "+----+--------------------+-------+\n",
      "only showing top 10 rows\n",
      "\n"
     ]
    }
   ],
   "source": [
    "# Sorting the airport delay statistics based on the Weather\n",
    "airport_statistics.select(\"Code\", \"Name\", \"Weather\").sort(\"Weather\").show(10)"
   ]
  },
  {
   "cell_type": "code",
   "execution_count": 251,
   "metadata": {},
   "outputs": [
    {
     "name": "stdout",
     "output_type": "stream",
     "text": [
      "+----+-------------------------------------------------------------------+-------+\n",
      "|Code|Name                                                               |Weather|\n",
      "+----+-------------------------------------------------------------------+-------+\n",
      "|MDW |Chicago, IL: Chicago Midway International                          |1      |\n",
      "|PDX |Portland, OR: Portland International                               |2      |\n",
      "|BWI |Baltimore, MD: Baltimore/Washington International Thurgood Marshall|2      |\n",
      "|FLL |Fort Lauderdale, FL: Fort Lauderdale-Hollywood International       |2      |\n",
      "|PDX |Portland, OR: Portland International                               |3      |\n",
      "|IAD |Washington, DC: Washington Dulles International                    |3      |\n",
      "|MCO |Orlando, FL: Orlando International                                 |4      |\n",
      "|PDX |Portland, OR: Portland International                               |4      |\n",
      "|FLL |Fort Lauderdale, FL: Fort Lauderdale-Hollywood International       |4      |\n",
      "|MDW |Chicago, IL: Chicago Midway International                          |4      |\n",
      "+----+-------------------------------------------------------------------+-------+\n",
      "only showing top 10 rows\n",
      "\n"
     ]
    }
   ],
   "source": [
    "\n",
    "# Sorting the airport delay statistics based on the Weather\n",
    "airport_statistics.select(\"Code\", \"Name\", \"Weather\").sort(\"Weather\").show(10, truncate= False)"
   ]
  },
  {
   "cell_type": "code",
   "execution_count": 253,
   "metadata": {},
   "outputs": [
    {
     "data": {
      "text/plain": [
       "4408"
      ]
     },
     "execution_count": 253,
     "metadata": {},
     "output_type": "execute_result"
    }
   ],
   "source": [
    "airport_delay_statistics.count()"
   ]
  },
  {
   "cell_type": "code",
   "execution_count": 202,
   "metadata": {},
   "outputs": [
    {
     "name": "stdout",
     "output_type": "stream",
     "text": [
      "+----+------------+\n",
      "|Code|sum(Weather)|\n",
      "+----+------------+\n",
      "| DCA|        8504|\n",
      "| IAH|       13062|\n",
      "| LGA|       16350|\n",
      "+----+------------+\n",
      "only showing top 3 rows\n",
      "\n"
     ]
    }
   ],
   "source": [
    "\n",
    "# Find the list of most affected airports due to delays caused by weather\n",
    "from pyspark.sql.functions import col, sum, count\n",
    "airport_statistics.select(\"Code\", \"Name\", \"Weather\").groupBy(\"Code\").sum(\"Weather\").show(3)#.sort(col(\"Weather\").desc()).show(5, truncate=False)\n"
   ]
  },
  {
   "cell_type": "code",
   "execution_count": 264,
   "metadata": {},
   "outputs": [
    {
     "name": "stdout",
     "output_type": "stream",
     "text": [
      "+----+------------------------------------------------------------+-------+\n",
      "|Code|Name                                                        |Weather|\n",
      "+----+------------------------------------------------------------+-------+\n",
      "|PDX |Portland, OR: Portland International                        |2791   |\n",
      "|SAN |San Diego, CA: San Diego International                      |5056   |\n",
      "|FLL |Fort Lauderdale, FL: Fort Lauderdale-Hollywood International|5084   |\n",
      "|TPA |Tampa, FL: Tampa International                              |5092   |\n",
      "|IAD |Washington, DC: Washington Dulles International             |5849   |\n",
      "|SEA |Seattle, WA: Seattle/Tacoma International                   |5953   |\n",
      "|MIA |Miami, FL: Miami International                              |7487   |\n",
      "|CLT |Charlotte, NC: Charlotte Douglas International              |7738   |\n",
      "|MCO |Orlando, FL: Orlando International                          |8124   |\n",
      "|DCA |Washington, DC: Ronald Reagan Washington National           |8504   |\n",
      "+----+------------------------------------------------------------+-------+\n",
      "only showing top 10 rows\n",
      "\n"
     ]
    }
   ],
   "source": [
    "\n",
    "# Using groupby to find the list of least affected unique airports\n",
    "from pyspark.sql.functions import col, sum, count\n",
    "airport_statistics.select(\"Code\", \"Name\", \"Weather\") \\\n",
    "    .groupBy(\"Code\", \"Name\").agg(sum(\"Weather\") \\\n",
    "    .alias(\"Weather\")).sort(col(\"Weather\")).show(10, truncate=False)\n"
   ]
  },
  {
   "cell_type": "code",
   "execution_count": 265,
   "metadata": {},
   "outputs": [
    {
     "name": "stdout",
     "output_type": "stream",
     "text": [
      "+----+------------------------------------------------------+-------+\n",
      "|Code|Name                                                  |Weather|\n",
      "+----+------------------------------------------------------+-------+\n",
      "|ATL |Atlanta, GA: Hartsfield-Jackson Atlanta International |40113  |\n",
      "|DFW |Dallas/Fort Worth, TX: Dallas/Fort Worth International|30476  |\n",
      "|ORD |Chicago, IL: Chicago O'Hare International             |24358  |\n",
      "|LGA |New York, NY: LaGuardia                               |16350  |\n",
      "|DEN |Denver, CO: Denver International                      |15556  |\n",
      "|EWR |Newark, NJ: Newark Liberty International              |14668  |\n",
      "|LAX |Los Angeles, CA: Los Angeles International            |14652  |\n",
      "|IAH |Houston, TX: George Bush Intercontinental/Houston     |13062  |\n",
      "|BOS |Boston, MA: Logan International                       |11955  |\n",
      "|SFO |San Francisco, CA: San Francisco International        |11751  |\n",
      "+----+------------------------------------------------------+-------+\n",
      "only showing top 10 rows\n",
      "\n"
     ]
    }
   ],
   "source": [
    "\n",
    "# Using groupby to find the list of most affected unique airports\n",
    "from pyspark.sql.functions import col, sum, count\n",
    "airport_statistics.select(\"Code\", \"Name\", \"Weather\") \\\n",
    "    .groupBy(\"Code\", \"Name\").agg(sum(\"Weather\") \\\n",
    "    .alias(\"Weather\")).sort(col(\"Weather\").desc()).show(10, truncate=False)"
   ]
  },
  {
   "cell_type": "code",
   "execution_count": 263,
   "metadata": {},
   "outputs": [
    {
     "name": "stdout",
     "output_type": "stream",
     "text": [
      "+----+------------------------------------------------------+--------+\n",
      "|Code|Name                                                  |Security|\n",
      "+----+------------------------------------------------------+--------+\n",
      "|LAX |Los Angeles, CA: Los Angeles International            |1738    |\n",
      "|PHX |Phoenix, AZ: Phoenix Sky Harbor International         |1715    |\n",
      "|IAH |Houston, TX: George Bush Intercontinental/Houston     |1355    |\n",
      "|LAS |Las Vegas, NV: McCarran International                 |1288    |\n",
      "|SLC |Salt Lake City, UT: Salt Lake City International      |1201    |\n",
      "|SEA |Seattle, WA: Seattle/Tacoma International             |1125    |\n",
      "|DEN |Denver, CO: Denver International                      |1122    |\n",
      "|DFW |Dallas/Fort Worth, TX: Dallas/Fort Worth International|1098    |\n",
      "|ATL |Atlanta, GA: Hartsfield-Jackson Atlanta International |1066    |\n",
      "|ORD |Chicago, IL: Chicago O'Hare International             |1027    |\n",
      "+----+------------------------------------------------------+--------+\n",
      "only showing top 10 rows\n",
      "\n"
     ]
    }
   ],
   "source": [
    "\n",
    "# Find the list of most affected airports due to delays caused by security\n",
    "airport_statistics.select(\"Code\", \"Name\", \"Security\") \\\n",
    "    .groupBy(\"Code\", \"Name\").agg(sum(\"Security\") \\\n",
    "    .alias(\"Security\")).sort(col(\"Security\").desc()).show(10, truncate=False)\n"
   ]
  },
  {
   "cell_type": "code",
   "execution_count": 267,
   "metadata": {},
   "outputs": [
    {
     "data": {
      "text/plain": [
       "['Code', 'Name', 'Carrier', 'Late Aircraft', 'Security', 'Weather']"
      ]
     },
     "execution_count": 267,
     "metadata": {},
     "output_type": "execute_result"
    }
   ],
   "source": [
    " airport_delay_statistics.columns"
   ]
  },
  {
   "cell_type": "code",
   "execution_count": 270,
   "metadata": {},
   "outputs": [
    {
     "data": {
      "text/plain": [
       "[('Code', 'string'),\n",
       " ('Name', 'string'),\n",
       " ('Carrier', 'bigint'),\n",
       " ('Late Aircraft', 'bigint'),\n",
       " ('Security', 'bigint'),\n",
       " ('Weather', 'bigint')]"
      ]
     },
     "execution_count": 270,
     "metadata": {},
     "output_type": "execute_result"
    }
   ],
   "source": [
    "airport_delay_statistics.dtypes"
   ]
  },
  {
   "cell_type": "code",
   "execution_count": 274,
   "metadata": {},
   "outputs": [
    {
     "data": {
      "text/plain": [
       "18080.795857275385"
      ]
     },
     "execution_count": 274,
     "metadata": {},
     "output_type": "execute_result"
    }
   ],
   "source": [
    "airport_delay_statistics.cov(\"Carrier\", \"Weather\")"
   ]
  },
  {
   "cell_type": "code",
   "execution_count": 283,
   "metadata": {},
   "outputs": [
    {
     "name": "stdout",
     "output_type": "stream",
     "text": [
      "+-------+----+--------------------+------------------+----------------+-----------------+-----------------+\n",
      "|summary|Code|                Name|           Carrier|   Late Aircraft|         Security|          Weather|\n",
      "+-------+----+--------------------+------------------+----------------+-----------------+-----------------+\n",
      "|  count|4408|                4408|              4408|            4408|             4408|             4408|\n",
      "|   mean|null|                null| 574.6324863883848|789.078947368421|  5.5755444646098|78.21687840290382|\n",
      "| stddev|null|                null|329.61647461501815| 561.79842030889|6.007046080059749|75.18172623192343|\n",
      "|    min| ATL|Atlanta, GA: Hart...|               112|              86|               -1|                1|\n",
      "|    max| TPA|Washington, DC: W...|              3087|            4483|               94|              812|\n",
      "+-------+----+--------------------+------------------+----------------+-----------------+-----------------+\n",
      "\n"
     ]
    }
   ],
   "source": [
    "# Creating a summary statistics of the dataframe\n",
    "airport_delay_statistics.describe().show()"
   ]
  },
  {
   "cell_type": "code",
   "execution_count": 282,
   "metadata": {},
   "outputs": [
    {
     "name": "stdout",
     "output_type": "stream",
     "text": [
      "+-------+----+--------------------+-------+-------------+--------+-------+\n",
      "|summary|Code|                Name|Carrier|Late Aircraft|Security|Weather|\n",
      "+-------+----+--------------------+-------+-------------+--------+-------+\n",
      "|  count|4408|                4408|   4408|         4408|    4408|   4408|\n",
      "|    min| ATL|Atlanta, GA: Hart...|    112|           86|      -1|      1|\n",
      "|    max| TPA|Washington, DC: W...|   3087|         4483|      94|    812|\n",
      "+-------+----+--------------------+-------+-------------+--------+-------+\n",
      "\n"
     ]
    }
   ],
   "source": [
    "# Creating a summary statistics by without columns having NAs \n",
    "airport_delay_statistics.describe().dropna().show()"
   ]
  },
  {
   "cell_type": "code",
   "execution_count": 284,
   "metadata": {},
   "outputs": [
    {
     "name": "stdout",
     "output_type": "stream",
     "text": [
      "+-------+------------------+----------------+-----------------+-----------------+\n",
      "|summary|           Carrier|   Late Aircraft|         Security|          Weather|\n",
      "+-------+------------------+----------------+-----------------+-----------------+\n",
      "|  count|              4408|            4408|             4408|             4408|\n",
      "|   mean| 574.6324863883848|789.078947368421|  5.5755444646098|78.21687840290382|\n",
      "| stddev|329.61647461501815| 561.79842030889|6.007046080059749|75.18172623192343|\n",
      "|    min|               112|              86|               -1|                1|\n",
      "|    max|              3087|            4483|               94|              812|\n",
      "+-------+------------------+----------------+-----------------+-----------------+\n",
      "\n"
     ]
    }
   ],
   "source": [
    "# Creating a summary statistics by without columns having NAs \n",
    "airport_delay_statistics.describe().drop(\"Code\", \"Name\").show()"
   ]
  },
  {
   "cell_type": "markdown",
   "metadata": {},
   "source": [
    "### Filtering rows \n",
    "\n",
    "* Discuss more about the various logical operations that can take place apart from OR such as AND, >, < etc\n",
    "* discuss about various programming methods to implement the same operation\n",
    "* explain how to extract the first row using FIRST\n",
    "* explain how to extract the first N rows using HEAD\n",
    "* "
   ]
  },
  {
   "cell_type": "code",
   "execution_count": 316,
   "metadata": {},
   "outputs": [
    {
     "name": "stdout",
     "output_type": "stream",
     "text": [
      "+----+-----------------------------------------------------+--------+\n",
      "|Code|Name                                                 |Security|\n",
      "+----+-----------------------------------------------------+--------+\n",
      "|ATL |Atlanta, GA: Hartsfield-Jackson Atlanta International|1066    |\n",
      "|TPA |Tampa, FL: Tampa International                       |500     |\n",
      "+----+-----------------------------------------------------+--------+\n",
      "\n"
     ]
    }
   ],
   "source": [
    "# Find the list of most affected airports due to delays caused by security\n",
    "# Filtering rows using a WHERE clause\n",
    "airport_statistics.select(\"Code\", \"Name\", \"Security\") \\\n",
    "    .groupBy(\"Code\", \"Name\").agg(sum(\"Security\") \\\n",
    "    .alias(\"Security\")).sort(col(\"Security\").desc()) \\\n",
    "    .where((col(\"Code\")== \"ATL\") | (col(\"Code\")== \"TPA\")) \\\n",
    "    .show(10, truncate=False)"
   ]
  },
  {
   "cell_type": "code",
   "execution_count": 317,
   "metadata": {},
   "outputs": [
    {
     "name": "stdout",
     "output_type": "stream",
     "text": [
      "+----+-----------------------------------------------------+--------+\n",
      "|Code|Name                                                 |Security|\n",
      "+----+-----------------------------------------------------+--------+\n",
      "|ATL |Atlanta, GA: Hartsfield-Jackson Atlanta International|1066    |\n",
      "|TPA |Tampa, FL: Tampa International                       |500     |\n",
      "+----+-----------------------------------------------------+--------+\n",
      "\n"
     ]
    }
   ],
   "source": [
    "# Find the list of most affected airports due to delays caused by security\n",
    "# Filtering rows using a FILTER clause\n",
    "airport_statistics.select(\"Code\", \"Name\", \"Security\") \\\n",
    "    .groupBy(\"Code\", \"Name\").agg(sum(\"Security\") \\\n",
    "    .alias(\"Security\")).sort(col(\"Security\").desc()) \\\n",
    "    .filter((col(\"Code\")== \"ATL\") | (col(\"Code\")== \"TPA\")) \\\n",
    "    .show(10, truncate=False)"
   ]
  },
  {
   "cell_type": "code",
   "execution_count": 318,
   "metadata": {},
   "outputs": [
    {
     "name": "stdout",
     "output_type": "stream",
     "text": [
      "+----+-----------------------------------------------------+--------+\n",
      "|Code|Name                                                 |Security|\n",
      "+----+-----------------------------------------------------+--------+\n",
      "|ATL |Atlanta, GA: Hartsfield-Jackson Atlanta International|1066    |\n",
      "|TPA |Tampa, FL: Tampa International                       |500     |\n",
      "+----+-----------------------------------------------------+--------+\n",
      "\n"
     ]
    }
   ],
   "source": [
    "# Find the list of most affected airports due to delays caused by security\n",
    "# Filtering rows using a WHERE clause\n",
    "\n",
    "condition_1= (col(\"Code\")== \"ATL\")\n",
    "condition_2= (col(\"Code\")== \"TPA\")\n",
    "\n",
    "airport_statistics.select(\"Code\", \"Name\", \"Security\") \\\n",
    "    .groupBy(\"Code\", \"Name\").agg(sum(\"Security\") \\\n",
    "    .alias(\"Security\")).sort(col(\"Security\").desc()) \\\n",
    "    .where(condition_1 | condition_2) \\\n",
    "    .show(10, truncate=False)"
   ]
  },
  {
   "cell_type": "code",
   "execution_count": 327,
   "metadata": {},
   "outputs": [
    {
     "data": {
      "text/plain": [
       "False"
      ]
     },
     "execution_count": 327,
     "metadata": {},
     "output_type": "execute_result"
    }
   ],
   "source": [
    "airport_delay_statistics.isStreaming"
   ]
  },
  {
   "cell_type": "code",
   "execution_count": 330,
   "metadata": {},
   "outputs": [
    {
     "data": {
      "text/plain": [
       "<pyspark.sql.dataframe.DataFrameNaFunctions at 0x7f9ef0c9f780>"
      ]
     },
     "execution_count": 330,
     "metadata": {},
     "output_type": "execute_result"
    }
   ],
   "source": [
    "airport_delay_statistics.na"
   ]
  },
  {
   "cell_type": "code",
   "execution_count": 331,
   "metadata": {},
   "outputs": [
    {
     "data": {
      "text/plain": [
       "<bound method DataFrame.persist of DataFrame[Code: string, Name: string, Carrier: bigint, Late Aircraft: bigint, Security: bigint, Weather: bigint]>"
      ]
     },
     "execution_count": 331,
     "metadata": {},
     "output_type": "execute_result"
    }
   ],
   "source": [
    "airport_delay_statistics.persist"
   ]
  },
  {
   "cell_type": "code",
   "execution_count": 338,
   "metadata": {},
   "outputs": [],
   "source": [
    "split_1, split_2= airport_delay_statistics.randomSplit([1.0, 2.0], 24)"
   ]
  },
  {
   "cell_type": "code",
   "execution_count": 343,
   "metadata": {},
   "outputs": [
    {
     "name": "stdout",
     "output_type": "stream",
     "text": [
      "+----+--------------------+-------+-------------+--------+-------+\n",
      "|Code|                Name|Carrier|Late Aircraft|Security|Weather|\n",
      "+----+--------------------+-------+-------------+--------+-------+\n",
      "| ATL|Atlanta, GA: Hart...|    776|         1910|       4|    101|\n",
      "| ATL|Atlanta, GA: Hart...|    875|         1146|       6|     39|\n",
      "| ATL|Atlanta, GA: Hart...|    880|         1095|       3|     26|\n",
      "+----+--------------------+-------+-------------+--------+-------+\n",
      "only showing top 3 rows\n",
      "\n"
     ]
    }
   ],
   "source": [
    "split_1.show(3)"
   ]
  },
  {
   "cell_type": "code",
   "execution_count": 341,
   "metadata": {},
   "outputs": [
    {
     "name": "stdout",
     "output_type": "stream",
     "text": [
      "+----+--------------------+-------+-------------+--------+-------+\n",
      "|Code|                Name|Carrier|Late Aircraft|Security|Weather|\n",
      "+----+--------------------+-------+-------------+--------+-------+\n",
      "| ATL|Atlanta, GA: Hart...|    700|          807|       4|    161|\n",
      "| ATL|Atlanta, GA: Hart...|    756|          906|       4|    170|\n",
      "| ATL|Atlanta, GA: Hart...|    789|          888|       6|    155|\n",
      "+----+--------------------+-------+-------------+--------+-------+\n",
      "only showing top 3 rows\n",
      "\n"
     ]
    }
   ],
   "source": [
    "split_2.show(3)"
   ]
  },
  {
   "cell_type": "code",
   "execution_count": null,
   "metadata": {},
   "outputs": [],
   "source": [
    "# df.replace\n",
    "# df.repartition, df.repartitionByRange\n",
    "# df.registerTempTable\n",
    "# df.rdd\n",
    "# df.intersect\n",
    "# df.intersectAll\n",
    "# df.collect vs df.take vs df.show\n",
    "# df.hint()\n",
    "# using explode feature\n",
    "# createGlobalTempView\n",
    "# createOrReplaceGlobalTempView\n",
    "# distinct \n",
    "# drop_duplicates\n",
    "# exceptALL\n",
    "# fillna\n",
    "# \n",
    "# cube function is most important"
   ]
  }
 ],
 "metadata": {
  "kernelspec": {
   "display_name": "Python 3",
   "language": "python",
   "name": "python3"
  },
  "language_info": {
   "codemirror_mode": {
    "name": "ipython",
    "version": 3
   },
   "file_extension": ".py",
   "mimetype": "text/x-python",
   "name": "python",
   "nbconvert_exporter": "python",
   "pygments_lexer": "ipython3",
   "version": "3.7.3"
  }
 },
 "nbformat": 4,
 "nbformat_minor": 2
}
