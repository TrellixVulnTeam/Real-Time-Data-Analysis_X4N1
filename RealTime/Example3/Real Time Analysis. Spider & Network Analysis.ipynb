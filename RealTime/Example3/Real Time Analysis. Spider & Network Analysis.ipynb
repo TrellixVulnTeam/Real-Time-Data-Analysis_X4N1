{
 "cells": [
  {
   "cell_type": "markdown",
   "metadata": {},
   "source": [
    "## Summary"
   ]
  },
  {
   "cell_type": "markdown",
   "metadata": {},
   "source": [
    "In this hands-on class, you will be working on a spider (aka web crawler), that basically explores a web domain, jumping from one web to another, and getting some specific information on each of the webpages it stops.\n",
    "\n",
    "The main idea is to select an online newspaper, and a topic with few words associated to it (sports: Messi, Barça, goal, match).\n",
    "- We will be keeping track of how many times these words appear in a certain link. \n",
    "- We will be keeping track of how many internal links can we get there (they will be connections in a graph once we explore them)\n",
    "- We will draw a graph (network) where we display as nodes all the links we explored and how they connect\n",
    "- We select an unexplored link, and start again.\n",
    "\n",
    "\n",
    "- Ideally we want to export this graph"
   ]
  },
  {
   "cell_type": "markdown",
   "metadata": {},
   "source": [
    "## Some details"
   ]
  },
  {
   "cell_type": "markdown",
   "metadata": {},
   "source": [
    "Suggestions on how to proceed!\n",
    "\n",
    "We will need a function that, given a certain link/soup, we get back the links we can find on it. You can use -again- BeautifulSoup for this. Depends on the kind of website you select, may be interesting to get only the links in the \"body\" of the articles, not all the webpage.\n",
    "\n",
    "We will also need a function to count the words in the body of the article (it is better to define one function for each purpose)\n",
    "\n",
    "We will need a function to create/update the graph based on the data we already collected\n",
    "\n",
    "We will need a while loop to keep it alive (and some sleep to avoid scrapping too much too fast)\n",
    "\n",
    "\n",
    "We will need to keep track of some information:\n",
    "- The links that we already explored\n",
    "- The links that we haven't explored yet\n",
    "- The connections of the links that we have already explored, no matter if we explored these connections or not\n",
    "- The number of times the words we defined have appeared (will define the size of the node)\n",
    "- A dataframe (or whatever object that you prefer) to store all the connections we can display in the graph\n",
    "\n"
   ]
  },
  {
   "cell_type": "markdown",
   "metadata": {},
   "source": [
    "## Further improvements"
   ]
  },
  {
   "cell_type": "markdown",
   "metadata": {},
   "source": [
    "- Use Tkinter to let the user define the words\n",
    "- Use Tkinter to let the user define also the starting link (harder, how to make sure you stay in the domain!?)\n",
    "- Export the graph in HTML/PDF (you can check the suggestions I gave you in the previous class, or use some library like Dash)\n",
    "- Improve the code so you can store the last step you did, so when you reboot the process, you still have all the previous data"
   ]
  },
  {
   "cell_type": "markdown",
   "metadata": {},
   "source": [
    "### Some useful references"
   ]
  },
  {
   "cell_type": "markdown",
   "metadata": {},
   "source": [
    "- NetworkX cheatsheet\n",
    "- Getting links from a link https://stackoverflow.com/questions/1080411/retrieve-links-from-web-page-using-python-and-beautifulsoup\n",
    "- Easy way to count occurences of a word(s) https://stackoverflow.com/questions/26242494/counting-the-number-of-times-a-word-appears-in-a-string?rq=1\n",
    "- How to draw basic graphs using NetworkX with different properties https://www.analyticsvidhya.com/blog/2018/04/introduction-to-graph-theory-network-analysis-python-codes/\n",
    "- Making interactive graphs using plotly https://plotly.com/python/network-graphs/\n",
    "- Easy graph from pandas https://python-graph-gallery.com/320-basic-network-from-pandas-data-frame/\n",
    "- Official NetworkX documentation https://networkx.github.io/documentation/stable/_downloads/networkx_reference.pdf\n",
    "- Try a bit of D3 for interactive visualization https://stackoverflow.com/questions/12977517/python-equivalent-of-d3-js\n",
    "- Learn R ;)"
   ]
  },
  {
   "cell_type": "markdown",
   "metadata": {},
   "source": [
    "## Timing & Communication\n",
    "\n",
    "Every hour, you should share in the chat (in a couple of lines) where are you right now, which challanges are you facing and what is already working.\n",
    "\n",
    "For example: \"I have the spider working and I am working in storing the data in a nice format for visualization\"\n",
    "\n",
    "You will be sharing your final code at 13:00. \n",
    "Each of you should explain amd show in 3-4 min what you did, how you solved some of the problems, what needs to be improved. \n",
    "\n",
    "Send your code in the chat at the end of this session.\n",
    "\n",
    "(Your active participation in this parts of the session is going to define your attendance)."
   ]
  },
  {
   "cell_type": "markdown",
   "metadata": {},
   "source": [
    "#### Good luck!!!"
   ]
  },
  {
   "cell_type": "markdown",
   "metadata": {},
   "source": [
    "Getting the data from the web"
   ]
  },
  {
   "cell_type": "code",
   "execution_count": null,
   "metadata": {},
   "outputs": [],
   "source": []
  },
  {
   "cell_type": "markdown",
   "metadata": {},
   "source": [
    "Updating the data"
   ]
  },
  {
   "cell_type": "code",
   "execution_count": null,
   "metadata": {},
   "outputs": [],
   "source": []
  },
  {
   "cell_type": "markdown",
   "metadata": {},
   "source": [
    "Creating the graph"
   ]
  },
  {
   "cell_type": "code",
   "execution_count": null,
   "metadata": {},
   "outputs": [],
   "source": []
  },
  {
   "cell_type": "markdown",
   "metadata": {},
   "source": [
    "Crawling the web (while)"
   ]
  },
  {
   "cell_type": "code",
   "execution_count": null,
   "metadata": {},
   "outputs": [],
   "source": []
  }
 ],
 "metadata": {
  "kernelspec": {
   "display_name": "Python 3",
   "language": "python",
   "name": "python3"
  },
  "language_info": {
   "codemirror_mode": {
    "name": "ipython",
    "version": 3
   },
   "file_extension": ".py",
   "mimetype": "text/x-python",
   "name": "python",
   "nbconvert_exporter": "python",
   "pygments_lexer": "ipython3",
   "version": "3.7.7"
  }
 },
 "nbformat": 4,
 "nbformat_minor": 4
}
